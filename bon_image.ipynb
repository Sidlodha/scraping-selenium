{
 "cells": [
  {
   "cell_type": "code",
   "execution_count": null,
   "metadata": {},
   "outputs": [],
   "source": [
    "productFiles = [\n",
    "    'm_knitwears.txt',\n",
    "    'w_knitwears.txt'\n",
    "]"
   ]
  },
  {
   "cell_type": "code",
   "execution_count": null,
   "metadata": {},
   "outputs": [],
   "source": [
    "from selenium.webdriver.firefox.options import Options\n",
    "from selenium import webdriver\n",
    "from selenium.webdriver.common.keys import Keys\n",
    "from selenium.webdriver.support.ui import WebDriverWait\n",
    "# from selenium.webdriver.common.keys import Keys\n",
    "import re\n",
    "import os\n",
    "import time\n",
    "import requests\n",
    "import sys\n",
    "from selenium.webdriver.common.action_chains import ActionChains\n",
    "from selenium.webdriver.support import expected_conditions as EC\n",
    "# sys.path.insert(0,'/usr/lib/chromium-browser/chromedriver')\n",
    "from selenium import webdriver\n",
    "from urllib.parse import urlparse\n",
    "from selenium.webdriver.common.action_chains import ActionChains\n",
    "from selenium.webdriver.common.by import By\n",
    "from selenium.webdriver.support.ui import WebDriverWait\n",
    "from selenium.webdriver.support import expected_conditions as EC\n",
    "import multiprocessing\n",
    "import requests\n",
    "import urllib\n",
    "from urllib.parse import urlparse"
   ]
  },
  {
   "cell_type": "code",
   "execution_count": null,
   "metadata": {},
   "outputs": [],
   "source": [
    "options = Options()\n",
    "options.headless = True\n",
    "driver = webdriver.Firefox(options=options)\n",
    "driver.maximize_window()\n",
    "# driver.get(\"https://www.bonprix.co.uk/products/all-weather-winter-jacket/_/A-953107_44R?PFM_rsn=browse&PFM_ref=false&PFM_psp=own\")"
   ]
  },
  {
   "cell_type": "code",
   "execution_count": null,
   "metadata": {},
   "outputs": [],
   "source": [
    "def extract_links(link):\n",
    "    driver.get(\"https://www.bonprix.co.uk/products/all-weather-winter-jacket/_/A-953107_44R?PFM_rsn=browse&PFM_ref=false&PFM_psp=own\")\n",
    "    SCROLL_PAUSE_TIME = 1    \n",
    "#   Infinite scroll handling\n",
    "    last_height = driver.execute_script(\"return document.body.scrollHeight\")\n",
    "    while True:\n",
    "        driver.execute_script(\"window.scrollTo(0, document.body.scrollHeight);\")\n",
    "        time.sleep(SCROLL_PAUSE_TIME)\n",
    "        new_height = driver.execute_script(\"return document.body.scrollHeight\")\n",
    "        if new_height == last_height:\n",
    "            break\n",
    "        last_height = new_height\n",
    "    imgs = driver.find_elements_by_css_selector('div.altProductImagesContainer > ul > li > img')\n",
    "    print(imgs)\n",
    "    for img in imgs:\n",
    "        src = img.get_attribute('data-original')\n",
    "        print(src)"
   ]
  },
  {
   "cell_type": "code",
   "execution_count": null,
   "metadata": {},
   "outputs": [],
   "source": [
    "def extract_link(file):\n",
    "    os.chdir('/home/uplarauser/bon/')\n",
    "    print(os.getcwd())\n",
    "    f = open(file,'r')\n",
    "    temp = []\n",
    "    for line in f:\n",
    "        line = line.replace('\\n','')\n",
    "        temp.append(line)\n",
    "    print(len(temp))\n",
    "    temp = list(set(temp))\n",
    "    print(len(temp))\n",
    "    curr_dir = os.getcwd() + '/'\n",
    "    os.chdir(curr_dir + file.replace('.txt','') + '/bonprix/')\n",
    "    main_dir = os.getcwd()\n",
    "    options = Options()\n",
    "    options.headless = True\n",
    "    driver = webdriver.Firefox(options=options)\n",
    "    driver.maximize_window()\n",
    "    i = 0\n",
    "    for link in temp:\n",
    "        driver.get(link + '?PFM_rsn=browse&PFM_ref=false&PFM_psp=own')\n",
    "        SCROLL_PAUSE_TIME = 1    \n",
    "#   Infinite scroll handling\n",
    "        last_height = driver.execute_script(\"return document.body.scrollHeight\")\n",
    "        while True:\n",
    "            driver.execute_script(\"window.scrollTo(0, document.body.scrollHeight);\")\n",
    "            time.sleep(SCROLL_PAUSE_TIME)\n",
    "            new_height = driver.execute_script(\"return document.body.scrollHeight\")\n",
    "            if new_height == last_height:\n",
    "                break\n",
    "            last_height = new_height\n",
    "        imgs = driver.find_elements_by_css_selector('div.altProductImagesContainer > ul > li > img')\n",
    "        srcs = []\n",
    "        for img in imgs:\n",
    "            src = img.get_attribute('data-image')\n",
    "            if src==None:\n",
    "                src = img.get_attribute('data-original')\n",
    "            srcs.append(src)\n",
    "        srcs = list(set(srcs))\n",
    "        product_colors = {}\n",
    "        for imgsrc in srcs:\n",
    "            imgsrc = imgsrc.split('/')\n",
    "            imgsrc[6] = '466w'\n",
    "            product_name = imgsrc[7]\n",
    "            newimgsrc = '/'.join(imgsrc)\n",
    "            print(newimgsrc)\n",
    "            product_name = product_name.replace('.jpg','')\n",
    "            product_color = product_name.split('~')[1].split('_')[0][0:6]\n",
    "            if product_color in product_colors:\n",
    "                product_colors[product_color].append(newimgsrc)\n",
    "            else:\n",
    "                product_colors[product_color] = [newimgsrc]\n",
    "        for key,value in product_colors.items():\n",
    "            print(key,'here')\n",
    "            flag = 0\n",
    "            for product in value:\n",
    "                try:\n",
    "                    if flag==0:\n",
    "                        folder_name = product.split('/')[-1].replace('.jpg','')\n",
    "                        os.system(\"mkdir \"+ folder_name)\n",
    "                        os.chdir(os.getcwd() + '/' + folder_name)\n",
    "                    flag+=1\n",
    "                    try:\n",
    "                        urllib.request.urlretrieve(product, str(flag) + \".jpg\")\n",
    "                    except:\n",
    "                        pass\n",
    "                except:\n",
    "                    pass\n",
    "            os.chdir(main_dir)\n",
    "        i+=1\n",
    "        print(i,'ends')\n",
    "    driver.quit()"
   ]
  },
  {
   "cell_type": "code",
   "execution_count": null,
   "metadata": {},
   "outputs": [],
   "source": [
    "for file in productFiles:\n",
    "    print(file)\n",
    "    extract_link(file)"
   ]
  },
  {
   "cell_type": "code",
   "execution_count": null,
   "metadata": {},
   "outputs": [],
   "source": [
    "driver.quit()"
   ]
  },
  {
   "cell_type": "code",
   "execution_count": null,
   "metadata": {},
   "outputs": [],
   "source": []
  }
 ],
 "metadata": {
  "kernelspec": {
   "display_name": "Python 3",
   "language": "python",
   "name": "python3"
  },
  "language_info": {
   "codemirror_mode": {
    "name": "ipython",
    "version": 3
   },
   "file_extension": ".py",
   "mimetype": "text/x-python",
   "name": "python",
   "nbconvert_exporter": "python",
   "pygments_lexer": "ipython3",
   "version": "3.5.2"
  }
 },
 "nbformat": 4,
 "nbformat_minor": 4
}
